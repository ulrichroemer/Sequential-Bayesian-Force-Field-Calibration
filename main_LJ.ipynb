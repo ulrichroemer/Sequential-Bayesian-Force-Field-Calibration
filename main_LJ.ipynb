{
 "cells": [
  {
   "cell_type": "code",
   "execution_count": 3,
   "id": "0489dc26",
   "metadata": {},
   "outputs": [],
   "source": [
    "import numpy as np\n",
    "from sequentialGP import *\n",
    "from UQpy.surrogates import *\n",
    "from UQpy.utilities.MinimizeOptimizer import MinimizeOptimizer\n",
    "from UQpy.utilities import Matern\n",
    "import chaospy"
   ]
  },
  {
   "cell_type": "markdown",
   "id": "1fd1b59a",
   "metadata": {},
   "source": [
    "Load the data, consisting of \n",
    "- input parameter matrix $x \\in \\mathbb{R}^{n_{\\text{train}} \\times 2}$ with Lennard Jones parameters\n",
    "- output matrix $y \\in \\mathbb{R}^{n_{\\text{train}} \\times 2}$ with $2$ properties ($P_\\text{SIM}$ in MPa at $326,16$ K and $408,34$ K) over the training data set\n",
    "- measurement data $z \\in \\mathbb{R}^{2}$"
   ]
  },
  {
   "cell_type": "code",
   "execution_count": 24,
   "id": "ce2a83c3",
   "metadata": {},
   "outputs": [],
   "source": [
    "x = np.array([\n",
    "        [152.5953, 3.5638],\n",
    "        [144.9884, 3.4765],\n",
    "        [135.5627, 3.5049],\n",
    "        [155.4567, 3.446],\n",
    "        [149.7889, 3.4676],\n",
    "        [146.5005, 3.5388],\n",
    "        [129.3503, 3.5482],\n",
    "        [137.9998, 3.5576]\n",
    "    ])\n",
    "\n",
    "y = np.array([\n",
    "        [1.2065000e-01, 1.0170000e+00],\n",
    "        [1.7699000e-01, 1.3480000e+00],\n",
    "        [2.4444000e-01, 1.6603000e+00],\n",
    "        [1.2370000e-01, 1.0272000e+00],\n",
    "        [1.5692000e-01, 1.2062000e+00],\n",
    "        [1.5804000e-01, 1.2238000e+00],\n",
    "        [2.8667000e-01, 1.9978000e+00],\n",
    "        [2.0888000e-01, 1.5246000e+00]\n",
    "    ])\n",
    "\n",
    "z = [0.1205, 0.97558]\n",
    "num_properties = len(z)"
   ]
  },
  {
   "cell_type": "markdown",
   "id": "89536a9c",
   "metadata": {},
   "source": [
    "The next cell: \n",
    "- defines the bounds for the Lennard Jones parameters $(\\varepsilon,\\sigma)$\n",
    "- defines the joint distribution over the parameter domain (uniform and independent)\n",
    "- sets the uncertainty of the measurement data"
   ]
  },
  {
   "cell_type": "code",
   "execution_count": 25,
   "id": "5716f9dd",
   "metadata": {},
   "outputs": [],
   "source": [
    "np.random.seed(5)\n",
    "\n",
    "# bounds\n",
    "eps_range = [130.0, 160.0]\n",
    "sig_range = [3.4, 3.6]\n",
    "bounds = [(130,160),(3.4,3.6)]\n",
    "domain = np.array([eps_range,sig_range])\n",
    "\n",
    "# distribution\n",
    "joint_X = chaospy.J(chaospy.Uniform(eps_range[0],eps_range[1]), chaospy.Uniform(sig_range[0],sig_range[1]))\n",
    "\n",
    "# measurement noise\n",
    "percentageUncertainty = np.array([0.3, 0.3]) \n",
    "sigma_noise = np.multiply(percentageUncertainty/100,z)\n",
    "\n",
    "# Samples in outer loop Monte Carlo approximation\n",
    "n_samples_X = 20"
   ]
  },
  {
   "cell_type": "markdown",
   "id": "8d924421",
   "metadata": {},
   "source": [
    "Initialize the Gaussian Process (GP) surrogate model with the training data and initialize object for sequential design:"
   ]
  },
  {
   "cell_type": "code",
   "execution_count": 26,
   "id": "f7921700",
   "metadata": {},
   "outputs": [],
   "source": [
    "# GP regression on initial training data\n",
    "optimizer = MinimizeOptimizer(method='slsqp')\n",
    "K = [GaussianProcessRegression(regression_model=ConstantRegression(), kernel=Matern(1.5),\n",
    "                                optimizer=optimizer, optimizations_number=5, hyperparameters=[100,1,0.5],\n",
    "                                random_state=2, noise=False, normalize=True) for i in range(num_properties)]\n",
    "\n",
    "sGP = SequentialGP(K,x,y,joint_X)"
   ]
  },
  {
   "cell_type": "markdown",
   "id": "7d81f7cb",
   "metadata": {},
   "source": [
    "Finally, we compute the Bayes risk over a grid. Note that the points could also be determined randomly or an optimization routine could be used as well. A grid is simple for illustration and plotting."
   ]
  },
  {
   "cell_type": "code",
   "execution_count": 27,
   "id": "76db91c2",
   "metadata": {},
   "outputs": [
    {
     "name": "stdout",
     "output_type": "stream",
     "text": [
      "157.85714285714286 3.5428571428571427\n"
     ]
    }
   ],
   "source": [
    "n_samples_risk = 15  \n",
    "eps_candidates = np.linspace(bounds[0][0],bounds[0][1],n_samples_risk)\n",
    "sigma_candidates = np.linspace(bounds[1][0],bounds[1][1],n_samples_risk)\n",
    "[eps_mg,sig_mg] = np.meshgrid(eps_candidates,sigma_candidates)\n",
    "\n",
    "r_mg = np.zeros((n_samples_risk,n_samples_risk))\n",
    "\n",
    "for ind1 in range(n_samples_risk):\n",
    "    for ind2 in range(n_samples_risk):\n",
    "        r_mg[ind1,ind2] = sGP.Bayes_risk(np.array([eps_mg[ind1,ind2],sig_mg[ind1,ind2]]),z,sigma_noise,n_samples_X)\n",
    "\n",
    "# find minimum on grid\n",
    "ind_new = np.argmin(r_mg)\n",
    "ind_new_2d = np.unravel_index(ind_new, r_mg.shape)\n",
    "eps_new = eps_mg[ind_new_2d]\n",
    "sig_new = sig_mg[ind_new_2d]\n",
    "\n",
    "print(eps_new,sig_new)"
   ]
  }
 ],
 "metadata": {
  "kernelspec": {
   "display_name": "Python 3",
   "language": "python",
   "name": "python3"
  },
  "language_info": {
   "codemirror_mode": {
    "name": "ipython",
    "version": 3
   },
   "file_extension": ".py",
   "mimetype": "text/x-python",
   "name": "python",
   "nbconvert_exporter": "python",
   "pygments_lexer": "ipython3",
   "version": "3.12.0"
  }
 },
 "nbformat": 4,
 "nbformat_minor": 5
}
